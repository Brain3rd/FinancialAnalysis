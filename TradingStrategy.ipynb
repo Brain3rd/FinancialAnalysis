{
 "cells": [
  {
   "cell_type": "code",
   "execution_count": 1,
   "id": "3bd88973",
   "metadata": {},
   "outputs": [],
   "source": [
    "import pandas as pd\n",
    "import matplotlib.pyplot as plt\n",
    "from yahoofinancials import YahooFinancials\n",
    "from http.client import IncompleteRead"
   ]
  },
  {
   "cell_type": "code",
   "execution_count": 2,
   "id": "704d29ed",
   "metadata": {},
   "outputs": [],
   "source": [
    "data = pd.read_csv('results/focus.csv', index_col=0)\n",
    "df = data.head(5)"
   ]
  },
  {
   "cell_type": "code",
   "execution_count": 3,
   "id": "817d229f",
   "metadata": {},
   "outputs": [
    {
     "name": "stdout",
     "output_type": "stream",
     "text": [
      "ADMCM.HE\n",
      "ICP1V.HE\n",
      "VIAFIN.HE\n",
      "NESTE.HE\n",
      "GOFORE.HE\n"
     ]
    }
   ],
   "source": [
    "top_companies = []\n",
    "for i, row in df.iterrows():\n",
    "    print(i)\n",
    "    top_companies.append(i)"
   ]
  },
  {
   "cell_type": "code",
   "execution_count": 4,
   "id": "5a50954f",
   "metadata": {},
   "outputs": [],
   "source": [
    "def price_history(company, timeline):\n",
    "    max_try = 5\n",
    "    attemp = 1\n",
    "    while attemp < max_try:\n",
    "        try:\n",
    "            yf = YahooFinancials(company)\n",
    "            data = yf.get_historical_price_data('2020-04-12', '2021-04-12', timeline)\n",
    "            data_1 = data[company]['prices']\n",
    "\n",
    "        except IncompleteRead:\n",
    "            attemp += 1\n",
    "            if attemp == max_try:\n",
    "                print(f'Failed {N}')\n",
    "        except ValueError as e:\n",
    "            print(f'{e}: {N}')\n",
    "            attemp = max_try\n",
    "        else:\n",
    "            break\n",
    "            \n",
    "    df = pd.DataFrame.from_dict(data_1)\n",
    "    if timeline == 'weekly':\n",
    "        df.to_csv(f\"results/price_history_weekly_{company.split('.')[0]}.csv\")\n",
    "    elif timeline == 'monthly':\n",
    "        df.to_csv(f\"results/price_history_monthly_{company.split('.')[0]}.csv\")\n",
    "    else:\n",
    "        df.to_csv(f\"results/price_history_{company.split('.')[0]}.csv\")"
   ]
  },
  {
   "cell_type": "code",
   "execution_count": 5,
   "id": "a4ca3703",
   "metadata": {},
   "outputs": [
    {
     "name": "stdout",
     "output_type": "stream",
     "text": [
      "results/price_history_ADMCM.csv\n",
      "results/price_history_ICP1V.csv\n",
      "results/price_history_VIAFIN.csv\n",
      "results/price_history_NESTE.csv\n",
      "results/price_history_GOFORE.csv\n"
     ]
    }
   ],
   "source": [
    "top_prices = []\n",
    "\n",
    "for i in top_companies:\n",
    "    price_history(i, 'daily')    \n",
    "    top_prices.append(f\"results/price_history_{i.split('.')[0]}.csv\")\n",
    "    print(f\"results/price_history_{i.split('.')[0]}.csv\")"
   ]
  },
  {
   "cell_type": "code",
   "execution_count": 6,
   "id": "f4cd00fa",
   "metadata": {},
   "outputs": [],
   "source": [
    "df_data = []\n",
    "for i in top_prices:\n",
    "    data = pd.read_csv(i, index_col='formatted_date', parse_dates=True)\n",
    "    del data['Unnamed: 0']\n",
    "    df_data.append(data)"
   ]
  },
  {
   "cell_type": "code",
   "execution_count": 17,
   "id": "7f3223af",
   "metadata": {},
   "outputs": [],
   "source": [
    "# 15 days average same calculation than below\n",
    "# df[0]['close'].iloc[:15].mean()\n",
    "\n",
    "df_list = []\n",
    "for n in range(len(top_prices)):\n",
    "    df = df_data[n].copy()\n",
    "#     df['SMA'] = df['close'].rolling(30).mean()\n",
    "    df['SMA'] = df['close'].ewm(span=50, adjust=False).mean()\n",
    "\n",
    "    df = df[['close', 'SMA']]\n",
    "    df.dropna(inplace=True)\n",
    "    df.reset_index(inplace=True)\n",
    "    df['dif'] = df['close'] - df['SMA']\n",
    "    df_list.append(df)"
   ]
  },
  {
   "cell_type": "code",
   "execution_count": 18,
   "id": "cf7fcc70",
   "metadata": {},
   "outputs": [
    {
     "data": {
      "text/html": [
       "<div>\n",
       "<style scoped>\n",
       "    .dataframe tbody tr th:only-of-type {\n",
       "        vertical-align: middle;\n",
       "    }\n",
       "\n",
       "    .dataframe tbody tr th {\n",
       "        vertical-align: top;\n",
       "    }\n",
       "\n",
       "    .dataframe thead th {\n",
       "        text-align: right;\n",
       "    }\n",
       "</style>\n",
       "<table border=\"1\" class=\"dataframe\">\n",
       "  <thead>\n",
       "    <tr style=\"text-align: right;\">\n",
       "      <th></th>\n",
       "      <th>formatted_date</th>\n",
       "      <th>close</th>\n",
       "      <th>SMA</th>\n",
       "      <th>dif</th>\n",
       "    </tr>\n",
       "  </thead>\n",
       "  <tbody>\n",
       "    <tr>\n",
       "      <th>0</th>\n",
       "      <td>2020-04-14</td>\n",
       "      <td>71.800003</td>\n",
       "      <td>71.800003</td>\n",
       "      <td>0.000000</td>\n",
       "    </tr>\n",
       "    <tr>\n",
       "      <th>1</th>\n",
       "      <td>2020-04-15</td>\n",
       "      <td>68.000000</td>\n",
       "      <td>71.650983</td>\n",
       "      <td>-3.650983</td>\n",
       "    </tr>\n",
       "    <tr>\n",
       "      <th>2</th>\n",
       "      <td>2020-04-16</td>\n",
       "      <td>67.000000</td>\n",
       "      <td>71.468592</td>\n",
       "      <td>-4.468592</td>\n",
       "    </tr>\n",
       "    <tr>\n",
       "      <th>3</th>\n",
       "      <td>2020-04-17</td>\n",
       "      <td>67.000000</td>\n",
       "      <td>71.293353</td>\n",
       "      <td>-4.293353</td>\n",
       "    </tr>\n",
       "    <tr>\n",
       "      <th>4</th>\n",
       "      <td>2020-04-20</td>\n",
       "      <td>67.400002</td>\n",
       "      <td>71.140672</td>\n",
       "      <td>-3.740671</td>\n",
       "    </tr>\n",
       "    <tr>\n",
       "      <th>...</th>\n",
       "      <td>...</td>\n",
       "      <td>...</td>\n",
       "      <td>...</td>\n",
       "      <td>...</td>\n",
       "    </tr>\n",
       "    <tr>\n",
       "      <th>244</th>\n",
       "      <td>2021-04-01</td>\n",
       "      <td>97.000000</td>\n",
       "      <td>102.468142</td>\n",
       "      <td>-5.468142</td>\n",
       "    </tr>\n",
       "    <tr>\n",
       "      <th>245</th>\n",
       "      <td>2021-04-06</td>\n",
       "      <td>95.400002</td>\n",
       "      <td>102.190960</td>\n",
       "      <td>-6.790959</td>\n",
       "    </tr>\n",
       "    <tr>\n",
       "      <th>246</th>\n",
       "      <td>2021-04-07</td>\n",
       "      <td>98.000000</td>\n",
       "      <td>102.026609</td>\n",
       "      <td>-4.026609</td>\n",
       "    </tr>\n",
       "    <tr>\n",
       "      <th>247</th>\n",
       "      <td>2021-04-08</td>\n",
       "      <td>97.199997</td>\n",
       "      <td>101.837330</td>\n",
       "      <td>-4.637333</td>\n",
       "    </tr>\n",
       "    <tr>\n",
       "      <th>248</th>\n",
       "      <td>2021-04-09</td>\n",
       "      <td>97.699997</td>\n",
       "      <td>101.675082</td>\n",
       "      <td>-3.975085</td>\n",
       "    </tr>\n",
       "  </tbody>\n",
       "</table>\n",
       "<p>249 rows × 4 columns</p>\n",
       "</div>"
      ],
      "text/plain": [
       "    formatted_date      close         SMA       dif\n",
       "0       2020-04-14  71.800003   71.800003  0.000000\n",
       "1       2020-04-15  68.000000   71.650983 -3.650983\n",
       "2       2020-04-16  67.000000   71.468592 -4.468592\n",
       "3       2020-04-17  67.000000   71.293353 -4.293353\n",
       "4       2020-04-20  67.400002   71.140672 -3.740671\n",
       "..             ...        ...         ...       ...\n",
       "244     2021-04-01  97.000000  102.468142 -5.468142\n",
       "245     2021-04-06  95.400002  102.190960 -6.790959\n",
       "246     2021-04-07  98.000000  102.026609 -4.026609\n",
       "247     2021-04-08  97.199997  101.837330 -4.637333\n",
       "248     2021-04-09  97.699997  101.675082 -3.975085\n",
       "\n",
       "[249 rows x 4 columns]"
      ]
     },
     "execution_count": 18,
     "metadata": {},
     "output_type": "execute_result"
    }
   ],
   "source": [
    "df_list[0]"
   ]
  },
  {
   "cell_type": "code",
   "execution_count": null,
   "id": "f13983f8",
   "metadata": {},
   "outputs": [],
   "source": []
  },
  {
   "cell_type": "code",
   "execution_count": 19,
   "id": "40248814",
   "metadata": {
    "scrolled": true
   },
   "outputs": [
    {
     "name": "stdout",
     "output_type": "stream",
     "text": [
      "ADMCM.HE Original Profit: 25.89999389648439\n",
      "ADMCM.HE Method Profit: 1.9600009918212935\n",
      "\n",
      "ICP1V.HE Original Profit: 14.361414909362793\n",
      "ICP1V.HE Method Profit: 15.880000114440922\n",
      "\n",
      "VIAFIN.HE Original Profit: 7.550000190734863\n",
      "VIAFIN.HE Method Profit: 4.580002784728997\n",
      "\n",
      "NESTE.HE Original Profit: 15.600000381469727\n",
      "NESTE.HE Method Profit: 8.439996242523197\n",
      "\n",
      "GOFORE.HE Original Profit: 14.260000228881836\n",
      "GOFORE.HE Method Profit: 13.479999542236321\n",
      "\n"
     ]
    }
   ],
   "source": [
    "for n in range(len(df_list)):\n",
    "    dif_list = df_list[n]['dif'].tolist()\n",
    "    buy = {}\n",
    "    sell = {}\n",
    "    pos = None\n",
    "    profit = 0\n",
    "\n",
    "    for i in range(len(dif_list)):\n",
    "        current = dif_list[i]\n",
    "        past =  dif_list[i - 1]\n",
    "\n",
    "        current_price = df.iloc[i]['close']\n",
    "\n",
    "        if current < 0 and past > 0:\n",
    "            sell.update({i: current_price})\n",
    "            pos = 'Sell' \n",
    "            if len(buy) > 0:\n",
    "                last_buy = buy[max(buy.keys())]\n",
    "\n",
    "#                 print(f'Entering Price: {last_buy}')\n",
    "#                 print(f'Exit Price: {current_price}')\n",
    "#                 print(f'Position: Buy')\n",
    "#                 print(f'Profit: {current_price - last_buy}\\n')\n",
    "\n",
    "                profit += current_price - last_buy\n",
    "\n",
    "        elif current > 0 and past < 0:\n",
    "            buy.update({i: current_price})\n",
    "            pos = 'Buy'\n",
    "\n",
    "            if len(sell) > 0:\n",
    "                last_sell = sell[max(sell.keys())]\n",
    "\n",
    "#                 print(f'Entering Price: {last_sell}')\n",
    "#                 print(f'Exit Price: {current_price}')\n",
    "#                 print(f'Position: Sell')\n",
    "#                 print(f'Profit: {last_sell - current_price}\\n')\n",
    "\n",
    "                profit += last_sell - current_price\n",
    "\n",
    "        if i == len(dif_list) - 1:\n",
    "            if pos == 'Buy':\n",
    "                sell.update({i: current_price})\n",
    "                last_buy = buy[max(buy.keys())]\n",
    "\n",
    "#                 print(f'Entering Price: {last_buy}')\n",
    "#                 print(f'Exit Price: {current_price}')\n",
    "#                 print(f'Position: Buy')\n",
    "#                 print(f'Profit: {current_price - last_buy}\\n')\n",
    "\n",
    "                profit += current_price - last_buy\n",
    "            else:\n",
    "                buy.update({i: current_price})\n",
    "                last_sell = sell[max(sell.keys())]\n",
    "\n",
    "#                 print(f'Entering Price: {last_sell}')\n",
    "#                 print(f'Exit Price: {current_price}')\n",
    "#                 print(f'Position: Sell')\n",
    "#                 print(f'Profit: {last_sell - current_price}\\n')\n",
    "\n",
    "                profit += last_sell - current_price    \n",
    "    \n",
    "    print(f\"{top_companies[n]} Original Profit: {df_list[n].iloc[-1]['close'] - df_list[n].iloc[0]['close']}\")\n",
    "    print(f\"{top_companies[n]} Method Profit: {profit}\\n\")"
   ]
  },
  {
   "cell_type": "code",
   "execution_count": 21,
   "id": "aea58415",
   "metadata": {},
   "outputs": [
    {
     "data": {
      "image/png": "[encoded data removed]",
      "text/plain": [
       "<Figure size 1152x720 with 1 Axes>"
      ]
     },
     "metadata": {
      "needs_background": "light"
     },
     "output_type": "display_data"
    }
   ],
   "source": [
    "plt.figure(figsize=(16,10))\n",
    "plt.suptitle(top_companies[0])\n",
    "plt.plot(df['SMA'], label='SMA')\n",
    "plt.plot(df['close'], label='Price')\n",
    "plt.plot(list(buy.keys()), list(buy.values()), '^', label='Buy')\n",
    "plt.plot(list(sell.keys()), list(sell.values()), 'v', label='Sell')\n",
    "plt.legend(loc='best')\n",
    "plt.show()"
   ]
  },
  {
   "cell_type": "code",
   "execution_count": null,
   "id": "c456e857",
   "metadata": {},
   "outputs": [],
   "source": []
  },
  {
   "cell_type": "code",
   "execution_count": null,
   "id": "cfba90e8",
   "metadata": {},
   "outputs": [],
   "source": []
  }
 ],
 "metadata": {
  "kernelspec": {
   "display_name": "Python 3",
   "language": "python",
   "name": "python3"
  },
  "language_info": {
   "codemirror_mode": {
    "name": "ipython",
    "version": 3
   },
   "file_extension": ".py",
   "mimetype": "text/x-python",
   "name": "python",
   "nbconvert_exporter": "python",
   "pygments_lexer": "ipython3",
   "version": "3.9.2"
  }
 },
 "nbformat": 4,
 "nbformat_minor": 5
}
