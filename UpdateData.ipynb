{
 "cells": [
  {
   "cell_type": "code",
   "execution_count": 6,
   "id": "f302fcf2",
   "metadata": {},
   "outputs": [],
   "source": [
    "from yahoofinancials import YahooFinancials\n",
    "from http.client import IncompleteRead\n",
    "import csv\n",
    "import pandas as pd"
   ]
  },
  {
   "cell_type": "markdown",
   "id": "0737282c",
   "metadata": {},
   "source": [
    "Read all FIN companies from txt file"
   ]
  },
  {
   "cell_type": "code",
   "execution_count": 7,
   "id": "324f2385",
   "metadata": {},
   "outputs": [
    {
     "name": "stdout",
     "output_type": "stream",
     "text": [
      "177\n"
     ]
    }
   ],
   "source": [
    "with open('companies/FIN.txt') as csvfile:\n",
    "    data = csv.reader(csvfile, delimiter=',')\n",
    "    FIN=[i for row in data for i in row]\n",
    "print(len(FIN))"
   ]
  },
  {
   "cell_type": "markdown",
   "id": "999add97",
   "metadata": {},
   "source": [
    "### Function to get data from YahooFinancials"
   ]
  },
  {
   "cell_type": "code",
   "execution_count": 10,
   "id": "e4e55c90",
   "metadata": {},
   "outputs": [],
   "source": [
    "def company_data():\n",
    "    max_try = 5\n",
    "    for N in range(len(FIN)):\n",
    "        attemp = 0\n",
    "        while attemp < max_try:\n",
    "            try:\n",
    "                yf = YahooFinancials(FIN[N])\n",
    "                \n",
    "                income_statement = yf.get_financial_stmts('annual', 'income')\n",
    "                company_is = income_statement['incomeStatementHistory'][FIN[N]]\n",
    "                \n",
    "                balance_statement = yf.get_financial_stmts('annual', 'balance')\n",
    "                company_bs = balance_statement['balanceSheetHistory'][FIN[N]]\n",
    "                \n",
    "                cash_flow = yf.get_financial_stmts('annual', 'cash')\n",
    "                company_cf = cash_flow['cashflowStatementHistory'][FIN[N]]\n",
    "\n",
    "                df_list = []\n",
    "                for d in company_is:\n",
    "                    df_list.append(pd.DataFrame.from_dict(d, orient='index'))   \n",
    "                df_is = pd.concat(df_list)\n",
    "                df_list.clear()\n",
    "\n",
    "                for d in company_bs:\n",
    "                    df_list.append(pd.DataFrame.from_dict(d, orient='index'))   \n",
    "                df_bs = pd.concat(df_list)\n",
    "                df_list.clear()\n",
    "\n",
    "                for d in company_cf:\n",
    "                    df_list.append(pd.DataFrame.from_dict(d, orient='index'))   \n",
    "                df_cf = pd.concat(df_list)\n",
    "\n",
    "                df = pd.concat([df_is, df_bs, df_cf], axis=1)\n",
    "                df['company'] = FIN[N]\n",
    "                df.to_csv(f\"companies/FIN_{N}.csv\", index=1,  index_label='date')\n",
    "\n",
    "                print(f\"FIN_{N}.csv\")\n",
    "\n",
    "            except IncompleteRead:\n",
    "                attemp += 1\n",
    "\n",
    "                if attemp == max_try:\n",
    "                    print(f'Failed {N}')\n",
    "            except ValueError as e:\n",
    "                print(f'{e}: {N}')\n",
    "                attemp = max_try\n",
    "            else:\n",
    "                break"
   ]
  },
  {
   "cell_type": "code",
   "execution_count": 9,
   "id": "36d65b93",
   "metadata": {},
   "outputs": [
    {
     "name": "stdout",
     "output_type": "stream",
     "text": [
      "FIN_0.csv\n"
     ]
    }
   ],
   "source": [
    "company_data()"
   ]
  },
  {
   "cell_type": "markdown",
   "id": "f1e5ced0",
   "metadata": {},
   "source": [
    "### Combine all companies to 1 csv file"
   ]
  },
  {
   "cell_type": "code",
   "execution_count": null,
   "id": "e1e6db6e",
   "metadata": {},
   "outputs": [],
   "source": [
    "companies = []\n",
    "\n",
    "for n in range(len(FIN)):\n",
    "    try:\n",
    "        company = pd.read_csv(f'companies/FIN_{n}.csv')\n",
    "        companies.append(company)\n",
    "    except FileNotFoundError:\n",
    "        pass\n",
    "\n",
    "df = pd.concat(companies)\n",
    "df.to_csv(\"companies/FIN_all.csv\", index=False)\n",
    "df"
   ]
  }
 ],
 "metadata": {
  "kernelspec": {
   "display_name": "Python 3",
   "language": "python",
   "name": "python3"
  },
  "language_info": {
   "codemirror_mode": {
    "name": "ipython",
    "version": 3
   },
   "file_extension": ".py",
   "mimetype": "text/x-python",
   "name": "python",
   "nbconvert_exporter": "python",
   "pygments_lexer": "ipython3",
   "version": "3.9.2"
  }
 },
 "nbformat": 4,
 "nbformat_minor": 5
}
